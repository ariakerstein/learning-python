{
 "metadata": {
  "name": "",
  "signature": "sha256:c29fd6bee71da9d56465cd1b870cbe0e47a0fb9bb651429abc0bc2994aecc478"
 },
 "nbformat": 3,
 "nbformat_minor": 0,
 "worksheets": [
  {
   "cells": [
    {
     "cell_type": "markdown",
     "metadata": {},
     "source": [
      "# Scientific Python: Part 1\n",
      "## Numpy and Scipy\n",
      "\n",
      "Prepared by: Ariel Rokem\n",
      "    \n",
      "Thanks to: Matt Davis, Justin Kitzes, Katy Huff, Matthew Terry"
     ]
    },
    {
     "cell_type": "markdown",
     "metadata": {},
     "source": [
      "## Introducing Numpy\n",
      "\n",
      "NumPy is a Python package implementing efficient collections of specific types of data (generally numerical), similar to the standard array\n",
      "module (but with many more features). NumPy arrays differ from lists and tuples in that the data is contiguous in memory. A Python **list**, \n",
      "```[0, 1, 2]```, in contrast, is actually an array of pointers to Python objects representing each number. This allows NumPy arrays to be\n",
      "considerably faster for numerical operations than Python lists/tuples."
     ]
    },
    {
     "cell_type": "code",
     "collapsed": true,
     "input": [
      "# Many useful functions are in external packages\n",
      "# Let's meet numpy\n",
      "import numpy as np"
     ],
     "language": "python",
     "metadata": {},
     "outputs": [],
     "prompt_number": 1
    },
    {
     "cell_type": "code",
     "collapsed": false,
     "input": [],
     "language": "python",
     "metadata": {},
     "outputs": []
    },
    {
     "cell_type": "code",
     "collapsed": true,
     "input": [
      "# To see what's in a package, type the name, a period, then hit tab\n",
      "np?\n",
      "np."
     ],
     "language": "python",
     "metadata": {},
     "outputs": [],
     "prompt_number": 2
    },
    {
     "cell_type": "code",
     "collapsed": false,
     "input": [
      "# Some examples of numpy functions and \"things\":\n",
      "print(np.sqrt(4))\n",
      "print(np.pi)  # Not a function, just a variable\n",
      "print(np.sin(np.pi)) # A function on a variable :) "
     ],
     "language": "python",
     "metadata": {},
     "outputs": [
      {
       "output_type": "stream",
       "stream": "stdout",
       "text": [
        "2.0\n",
        "3.141592653589793\n",
        "1.22464679915e-16\n"
       ]
      }
     ],
     "prompt_number": 4
    },
    {
     "cell_type": "markdown",
     "metadata": {},
     "source": [
      "### Numpy arrays (ndarrays)\n",
      "\n",
      "Creating a NumPy array is as simple as passing a sequence to numpy.array:\n",
      "    \n",
      "Numpy arrays are collections of things, all of which must be the same type, that work\n",
      "similarly to lists (as we've described them so far). The most important are:\n",
      "\n",
      "1. You can easily perform elementwise operations (and matrix algebra) on arrays\n",
      "1. Arrays can be n-dimensional\n",
      "1. Arrays must be pre-allocated (ie, there is no equivalent to append)\n",
      "\n",
      "Arrays can be created from existing collections such as lists, or instantiated \"from scratch\" in a \n",
      "few useful ways."
     ]
    },
    {
     "cell_type": "code",
     "collapsed": false,
     "input": [],
     "language": "python",
     "metadata": {},
     "outputs": []
    },
    {
     "cell_type": "code",
     "collapsed": false,
     "input": [
      "arr1 = np.array([1, 2.3, 4])   \n",
      "print(type(arr1))\n",
      "print(arr1.dtype)"
     ],
     "language": "python",
     "metadata": {},
     "outputs": [
      {
       "output_type": "stream",
       "stream": "stdout",
       "text": [
        "<class 'numpy.ndarray'>\n",
        "float64\n"
       ]
      }
     ],
     "prompt_number": 10
    },
    {
     "cell_type": "code",
     "collapsed": false,
     "input": [
      "arr1"
     ],
     "language": "python",
     "metadata": {},
     "outputs": [
      {
       "metadata": {},
       "output_type": "pyout",
       "prompt_number": 11,
       "text": [
        "array([ 1. ,  2.3,  4. ])"
       ]
      }
     ],
     "prompt_number": 11
    },
    {
     "cell_type": "markdown",
     "metadata": {},
     "source": [
      "You can also explicitly specify the data-type if the automatically-chosen one would be unsuitable."
     ]
    },
    {
     "cell_type": "code",
     "collapsed": false,
     "input": [
      "arr2 = np.array([1, 2.3, 4], dtype=int)   \n",
      "print(type(arr2))\n",
      "print(arr2.dtype)"
     ],
     "language": "python",
     "metadata": {},
     "outputs": [
      {
       "output_type": "stream",
       "stream": "stdout",
       "text": [
        "<class 'numpy.ndarray'>\n",
        "int64\n"
       ]
      }
     ],
     "prompt_number": 12
    },
    {
     "cell_type": "code",
     "collapsed": false,
     "input": [
      "arr2"
     ],
     "language": "python",
     "metadata": {},
     "outputs": [
      {
       "metadata": {},
       "output_type": "pyout",
       "prompt_number": 13,
       "text": [
        "array([1, 2, 4])"
       ]
      }
     ],
     "prompt_number": 13
    },
    {
     "cell_type": "markdown",
     "metadata": {},
     "source": [
      "As you might expect, creating a NumPy array this way can be slow, since it must manually convert each element of a list into its equivalent C type (int objects become C ints, etc). There are many other ways to create NumPy arrays, such as `np.identity`, `np.zeros`, `np.zeros_like`, or by manually specifying the dimensions and type of the array with the low-level creation function:"
     ]
    },
    {
     "cell_type": "code",
     "collapsed": false,
     "input": [
      "np.array([2, 3]) * 3"
     ],
     "language": "python",
     "metadata": {},
     "outputs": [
      {
       "metadata": {},
       "output_type": "pyout",
       "prompt_number": 34,
       "text": [
        "array([6, 9])"
       ]
      }
     ],
     "prompt_number": 34
    },
    {
     "cell_type": "code",
     "collapsed": false,
     "input": [
      "arr3 = np.ndarray([2] * 3, dtype=complex)  # Notice : `ndarray`, not `array`!\n",
      "print(type(arr3))"
     ],
     "language": "python",
     "metadata": {},
     "outputs": [
      {
       "output_type": "stream",
       "stream": "stdout",
       "text": [
        "<class 'numpy.ndarray'>\n"
       ]
      }
     ],
     "prompt_number": 31
    },
    {
     "cell_type": "markdown",
     "metadata": {},
     "source": [
      "Arrays have a `.shape` attribute, which stores the dimensions of the array as a tuple:"
     ]
    },
    {
     "cell_type": "code",
     "collapsed": false,
     "input": [
      "print(arr3.shape)"
     ],
     "language": "python",
     "metadata": {},
     "outputs": [
      {
       "output_type": "stream",
       "stream": "stdout",
       "text": [
        "(2, 3, 4)\n"
       ]
      }
     ],
     "prompt_number": 27
    },
    {
     "cell_type": "code",
     "collapsed": false,
     "input": [
      "arr3"
     ],
     "language": "python",
     "metadata": {},
     "outputs": [
      {
       "metadata": {},
       "output_type": "pyout",
       "prompt_number": 20,
       "text": [
        "array([[[  0.00000000e+000 +0.00000000e+000j,\n",
        "           3.45845952e-322 +0.00000000e+000j,\n",
        "           0.00000000e+000 +0.00000000e+000j,\n",
        "           0.00000000e+000 +0.00000000e+000j],\n",
        "        [  0.00000000e+000 +0.00000000e+000j,\n",
        "           0.00000000e+000 +0.00000000e+000j,\n",
        "           0.00000000e+000 +0.00000000e+000j,\n",
        "           0.00000000e+000 +0.00000000e+000j],\n",
        "        [  0.00000000e+000 +0.00000000e+000j,\n",
        "           0.00000000e+000 +0.00000000e+000j,\n",
        "           0.00000000e+000 +0.00000000e+000j,\n",
        "           2.12215772e-314 +2.47032823e-323j]],\n",
        "\n",
        "       [[  0.00000000e+000 +0.00000000e+000j,\n",
        "           0.00000000e+000 +0.00000000e+000j,\n",
        "           0.00000000e+000 +0.00000000e+000j,\n",
        "           0.00000000e+000 +0.00000000e+000j],\n",
        "        [  0.00000000e+000 +0.00000000e+000j,\n",
        "           0.00000000e+000 +0.00000000e+000j,\n",
        "           0.00000000e+000 +0.00000000e+000j,\n",
        "           0.00000000e+000 +0.00000000e+000j],\n",
        "        [  0.00000000e+000 +0.00000000e+000j,\n",
        "           0.00000000e+000 +0.00000000e+000j,\n",
        "           0.00000000e+000 +0.00000000e+000j,\n",
        "           0.00000000e+000 +0.00000000e+000j]]])"
       ]
      }
     ],
     "prompt_number": 20
    },
    {
     "cell_type": "markdown",
     "metadata": {},
     "source": [
      "For many of the examples below, we will be using `np.arange` which, similar to the Python built-in function `range`, returns a NumPy array\n",
      "of integers from 0 to N-1, inclusive. Like `range`, you can also specify a starting value and a step:"
     ]
    },
    {
     "cell_type": "code",
     "collapsed": false,
     "input": [
      "[i for i in range(10)]"
     ],
     "language": "python",
     "metadata": {},
     "outputs": [
      {
       "metadata": {},
       "output_type": "pyout",
       "prompt_number": 15,
       "text": [
        "[0, 1, 2, 3, 4, 5, 6, 7, 8, 9]"
       ]
      }
     ],
     "prompt_number": 15
    },
    {
     "cell_type": "code",
     "collapsed": false,
     "input": [
      "arr4 = np.arange(2, 5)\n",
      "print(arr4)\n",
      "arr5 = np.arange(1, 5, 2)\n",
      "print(arr5)\n",
      "arr6 = np.arange(1, 10, 2)\n",
      "print(arr6)"
     ],
     "language": "python",
     "metadata": {},
     "outputs": [
      {
       "output_type": "stream",
       "stream": "stdout",
       "text": [
        "[2 3 4]\n",
        "[1 3]\n",
        "[1 3 5 7 9]\n"
       ]
      }
     ],
     "prompt_number": 16
    },
    {
     "cell_type": "markdown",
     "metadata": {},
     "source": [
      "### Exercise : Create an Array\n",
      "\n",
      "Create an array with values ranging from 0 to 10, in increments of 0.5. \n",
      "\n",
      "Reminder: get help by typing `np.arange?`, `np.ndarray?`, `np.array?`, etc. "
     ]
    },
    {
     "cell_type": "code",
     "collapsed": false,
     "input": [
      "np.arange(0, 10.5, 0.5)"
     ],
     "language": "python",
     "metadata": {},
     "outputs": [
      {
       "metadata": {},
       "output_type": "pyout",
       "prompt_number": 21,
       "text": [
        "array([  0. ,   0.5,   1. ,   1.5,   2. ,   2.5,   3. ,   3.5,   4. ,\n",
        "         4.5,   5. ,   5.5,   6. ,   6.5,   7. ,   7.5,   8. ,   8.5,\n",
        "         9. ,   9.5,  10. ])"
       ]
      }
     ],
     "prompt_number": 21
    },
    {
     "cell_type": "markdown",
     "metadata": {},
     "source": [
      "## Arithmetic with arrays\n",
      "\n",
      "Since numpy exists to perform efficient numerical operations in Python, arrays have all the usual arithmetic operations available to them. These operations are performed element-wise (i.e. the same operation is performed independently on each element of the array)."
     ]
    },
    {
     "cell_type": "code",
     "collapsed": false,
     "input": [
      "A = np.arange(5)\n",
      "B = np.arange(5, 10)\n",
      "\n",
      "print(A)\n",
      "print(B)\n",
      "print(A+B)\n",
      "\n",
      "print(B-A)\n",
      "\n",
      "print(A*B)"
     ],
     "language": "python",
     "metadata": {},
     "outputs": [
      {
       "output_type": "stream",
       "stream": "stdout",
       "text": [
        "[0 1 2 3 4]\n",
        "[5 6 7 8 9]\n",
        "[ 5  7  9 11 13]\n",
        "[5 5 5 5 5]\n",
        "[ 0  6 14 24 36]\n"
       ]
      }
     ],
     "prompt_number": 37
    },
    {
     "cell_type": "code",
     "collapsed": false,
     "input": [
      "A.shape"
     ],
     "language": "python",
     "metadata": {},
     "outputs": [
      {
       "metadata": {},
       "output_type": "pyout",
       "prompt_number": 24,
       "text": [
        "(5,)"
       ]
      }
     ],
     "prompt_number": 24
    },
    {
     "cell_type": "markdown",
     "metadata": {},
     "source": [
      "## What would happen if A and B did not have the same `shape`?"
     ]
    },
    {
     "cell_type": "markdown",
     "metadata": {},
     "source": [
      "## Arithmetic with scalars:\n",
      "In addition, if one of the arguments is a scalar, that value will be applied to all the elements of the array."
     ]
    },
    {
     "cell_type": "code",
     "collapsed": false,
     "input": [
      "A = np.arange(5)\n",
      "print(A+10)\n",
      "print(2*A)\n",
      "print(A**2)"
     ],
     "language": "python",
     "metadata": {},
     "outputs": [
      {
       "output_type": "stream",
       "stream": "stdout",
       "text": [
        "[10 11 12 13 14]\n",
        "[0 2 4 6 8]\n",
        "[ 0  1  4  9 16]\n"
       ]
      }
     ],
     "prompt_number": 36
    },
    {
     "cell_type": "markdown",
     "metadata": {},
     "source": [
      "## Linear algebra with arrays\n",
      "You can use arrays as vectors and matrices in linear algebra operations\n",
      "\n",
      "Specifically, you can perform matrix/vector multiplication between arrays, by using the `.dot` method, or the `np.dot` function:"
     ]
    },
    {
     "cell_type": "code",
     "collapsed": false,
     "input": [
      "print(A.dot(B))\n",
      "print(np.dot(A, B))"
     ],
     "language": "python",
     "metadata": {},
     "outputs": [
      {
       "output_type": "stream",
       "stream": "stdout",
       "text": [
        "80\n",
        "80\n"
       ]
      }
     ],
     "prompt_number": 38
    },
    {
     "cell_type": "markdown",
     "metadata": {},
     "source": [
      "Note: *This is like the* '`*`' *operator in Matlab*"
     ]
    },
    {
     "cell_type": "markdown",
     "metadata": {},
     "source": [
      "### Exercise : \n",
      "    \n",
      "1. Given two vectors in 2-space:\n",
      "    \n",
      "    `a = [1,2]`\n",
      "   \n",
      "    `b = [4,5]`\n",
      "\n",
      "   Find the angle between these vectors. \n",
      "1. The rotation matrix of $\\theta$ angle is a matrix with elements: \n",
      "    \n",
      "    [[cos($\\theta$), -sin($\\theta$], \n",
      "                          \n",
      "     [sin($\\theta$, cos($\\theta$)]]\n",
      "    \n",
      "   Create a function that takes two 2-vectors and creates the rotation matrix between them.\n",
      "1. For the vector `c=[7,8]`, find a vector `d` that has the same rotation as `b` has relative to `a`"
     ]
    },
    {
     "cell_type": "code",
     "collapsed": false,
     "input": [
      "a = np.array([1, 2])\n",
      "b = np.array([4, 5])\n",
      "\n",
      "np.rad2deg(np.arccos(np.dot(a, b)/np.sqrt(np.dot(a, a) * np.dot(b, b))))"
     ],
     "language": "python",
     "metadata": {},
     "outputs": [
      {
       "metadata": {},
       "output_type": "pyout",
       "prompt_number": 52,
       "text": [
        "12.094757077012119"
       ]
      }
     ],
     "prompt_number": 52
    },
    {
     "cell_type": "markdown",
     "metadata": {},
     "source": [
      "### Boolean operators work on arrays too, and they return boolean arrays\n",
      "Much like the basic arithmetic operations we discussed above, comparison operations are perfomed element-wise. That is, rather than returning a\n",
      "single boolean, comparison operators compare each element in both arrays pairwise, and return an `array` of booleans (if the sizes of the input\n",
      "arrays are incompatible, the comparison will simply return False). For example:"
     ]
    },
    {
     "cell_type": "code",
     "collapsed": false,
     "input": [],
     "language": "python",
     "metadata": {},
     "outputs": []
    },
    {
     "cell_type": "code",
     "collapsed": false,
     "input": [
      "arr1 = np.array([1, 2, 3, 4, 5])\n",
      "arr2 = np.array([1, 1, 3, 3, 5])\n",
      "print(arr1 == arr2)\n",
      "c = (arr1 == arr2)\n",
      "print(c.dtype)"
     ],
     "language": "python",
     "metadata": {},
     "outputs": [
      {
       "output_type": "stream",
       "stream": "stdout",
       "text": [
        "[ True False  True False  True]\n",
        "bool\n"
       ]
      }
     ],
     "prompt_number": 54
    },
    {
     "cell_type": "code",
     "collapsed": false,
     "input": [
      "if np.any(arr1 == arr2):\n",
      "    print(\"identical\")"
     ],
     "language": "python",
     "metadata": {},
     "outputs": [
      {
       "output_type": "stream",
       "stream": "stdout",
       "text": [
        "identical\n"
       ]
      }
     ],
     "prompt_number": 59
    },
    {
     "cell_type": "code",
     "collapsed": false,
     "input": [
      "(arr1 - arr2) > 10e-6"
     ],
     "language": "python",
     "metadata": {},
     "outputs": [
      {
       "metadata": {},
       "output_type": "pyout",
       "prompt_number": 57,
       "text": [
        "array([False,  True, False,  True, False], dtype=bool)"
       ]
      }
     ],
     "prompt_number": 57
    },
    {
     "cell_type": "markdown",
     "metadata": {},
     "source": [
      "Note: You can use the methods `.any()` and `.all()` or the functions `np.any` and `np.all` to return a single boolean indicating whether any or all values in the array are `True`, respectively.\n"
     ]
    },
    {
     "cell_type": "code",
     "collapsed": false,
     "input": [
      "print(np.all(c))\n",
      "print(c.all())\n",
      "print(c.any())"
     ],
     "language": "python",
     "metadata": {},
     "outputs": [
      {
       "output_type": "stream",
       "stream": "stdout",
       "text": [
        "False\n",
        "False\n",
        "True\n"
       ]
      }
     ],
     "prompt_number": 56
    },
    {
     "cell_type": "markdown",
     "metadata": {},
     "source": [
      "### Indexing arrays\n",
      "\n",
      "In addition to the usual methods of indexing lists with an integer (or with a series of colon-separated integers for a slice), numpy allows you\n",
      "to index arrays in a wide variety of different ways for more advanced operations.\n",
      "\n",
      "First, the simple way:"
     ]
    },
    {
     "cell_type": "code",
     "collapsed": false,
     "input": [
      "arr1[1]"
     ],
     "language": "python",
     "metadata": {},
     "outputs": [
      {
       "metadata": {},
       "output_type": "pyout",
       "prompt_number": 61,
       "text": [
        "2"
       ]
      }
     ],
     "prompt_number": 61
    },
    {
     "cell_type": "code",
     "collapsed": false,
     "input": [
      "a = np.array([1,2,3])\n",
      "print(a[0:2])"
     ],
     "language": "python",
     "metadata": {},
     "outputs": [
      {
       "output_type": "stream",
       "stream": "stdout",
       "text": [
        "[1 2]\n"
       ]
      }
     ],
     "prompt_number": 62
    },
    {
     "cell_type": "markdown",
     "metadata": {},
     "source": [
      "### What happens if the array has more than one dimension? "
     ]
    },
    {
     "cell_type": "code",
     "collapsed": false,
     "input": [
      "#c = np.random.rand(3,3)\n",
      "print(c)"
     ],
     "language": "python",
     "metadata": {},
     "outputs": [
      {
       "output_type": "stream",
       "stream": "stdout",
       "text": [
        "[[ 1.          2.          3.        ]\n",
        " [ 0.07030378  0.6503463   0.68865532]\n",
        " [ 0.538037    0.1745433   0.34250236]]\n"
       ]
      }
     ],
     "prompt_number": 69
    },
    {
     "cell_type": "code",
     "collapsed": false,
     "input": [
      "print(c[1:3, 0:2].shape)"
     ],
     "language": "python",
     "metadata": {},
     "outputs": [
      {
       "output_type": "stream",
       "stream": "stdout",
       "text": [
        "(2, 2)\n"
       ]
      }
     ],
     "prompt_number": 72
    },
    {
     "cell_type": "code",
     "collapsed": false,
     "input": [
      "a"
     ],
     "language": "python",
     "metadata": {},
     "outputs": [
      {
       "metadata": {},
       "output_type": "pyout",
       "prompt_number": 73,
       "text": [
        "array([1, 2, 3])"
       ]
      }
     ],
     "prompt_number": 73
    },
    {
     "cell_type": "code",
     "collapsed": false,
     "input": [
      "b = np.copy(c[0, :])\n",
      "b[0] = 0\n",
      "c"
     ],
     "language": "python",
     "metadata": {},
     "outputs": [
      {
       "metadata": {},
       "output_type": "pyout",
       "prompt_number": 81,
       "text": [
        "array([[  1.00000000e+03,   2.00000000e+00,   3.00000000e+00],\n",
        "       [  5.75542293e-01,   6.14349634e-01,   6.15607267e-01],\n",
        "       [  6.08473548e-01,   5.72731216e-01,   8.21991047e-01]])"
       ]
      }
     ],
     "prompt_number": 81
    },
    {
     "cell_type": "code",
     "collapsed": false,
     "input": [
      "c = np.random.rand(3,3)\n",
      "print(c)\n",
      "print(c[1:3,0:2])\n",
      "c[0, :] = a\n",
      "print(c)"
     ],
     "language": "python",
     "metadata": {},
     "outputs": [
      {
       "output_type": "stream",
       "stream": "stdout",
       "text": [
        "[[ 0.45031967  0.61195475  0.09149204]\n",
        " [ 0.57554229  0.61434963  0.61560727]\n",
        " [ 0.60847355  0.57273122  0.82199105]]\n",
        "[[ 0.57554229  0.61434963]\n",
        " [ 0.60847355  0.57273122]]\n",
        "[[ 1.          2.          3.        ]\n",
        " [ 0.57554229  0.61434963  0.61560727]\n",
        " [ 0.60847355  0.57273122  0.82199105]]\n"
       ]
      }
     ],
     "prompt_number": 74
    },
    {
     "cell_type": "code",
     "collapsed": false,
     "input": [
      "b = c[1:3,0:2]"
     ],
     "language": "python",
     "metadata": {},
     "outputs": [],
     "prompt_number": 82
    },
    {
     "cell_type": "code",
     "collapsed": false,
     "input": [
      "b.strides"
     ],
     "language": "python",
     "metadata": {},
     "outputs": [
      {
       "metadata": {},
       "output_type": "pyout",
       "prompt_number": 86,
       "text": [
        "(24, 8)"
       ]
      }
     ],
     "prompt_number": 86
    },
    {
     "cell_type": "markdown",
     "metadata": {},
     "source": [
      "## Exercise\n",
      "We can manipulate the shape of an array as follows: \n",
      "  `A = np.arange(16).reshape(4, 4)`\n",
      "Or even:\n",
      "  `A = np.reshape(numpy.arange(16), (4, 4))`\n",
      "    \n",
      "Using what we've learned about slicing and indexing, create a function that takes an integer as input, creates a square n-by-n array with integers from `0` to `n**2-1` (like `A`) and prints just the upper-left quarter of the array\n",
      "\n",
      "For example, for A, the desired output would be: \n",
      "    \n",
      "     array([[2, 3],\n",
      "            [6, 7]])"
     ]
    },
    {
     "cell_type": "code",
     "collapsed": false,
     "input": [
      "import numpy.testing as npt"
     ],
     "language": "python",
     "metadata": {},
     "outputs": [],
     "prompt_number": 92
    },
    {
     "cell_type": "code",
     "collapsed": false,
     "input": [
      "def test_my_function():\n",
      "    npt.assert_array_equal(my_function(4), np.array([[2, 3], [6, 7]]))"
     ],
     "language": "python",
     "metadata": {},
     "outputs": [],
     "prompt_number": 94
    },
    {
     "cell_type": "code",
     "collapsed": false,
     "input": [
      "test_my_function()"
     ],
     "language": "python",
     "metadata": {},
     "outputs": [],
     "prompt_number": 101
    },
    {
     "cell_type": "code",
     "collapsed": false,
     "input": [
      "my_list = [1,2,3,4,5]\n",
      "my_list[-3:]"
     ],
     "language": "python",
     "metadata": {},
     "outputs": [
      {
       "metadata": {},
       "output_type": "pyout",
       "prompt_number": 104,
       "text": [
        "[3, 4, 5]"
       ]
      }
     ],
     "prompt_number": 104
    },
    {
     "cell_type": "code",
     "collapsed": false,
     "input": [
      "def my_function(n):\n",
      "    ans = np.reshape(np.arange(n**2), (n, n))\n",
      "    ans = ans[:n/2, -n/2:]\n",
      "    return ans"
     ],
     "language": "python",
     "metadata": {},
     "outputs": [],
     "prompt_number": 100
    },
    {
     "cell_type": "code",
     "collapsed": false,
     "input": [
      "a = np.ndarray((10,10))\n",
      "a.dtype"
     ],
     "language": "python",
     "metadata": {},
     "outputs": [
      {
       "metadata": {},
       "output_type": "pyout",
       "prompt_number": 111,
       "text": [
        "dtype('float64')"
       ]
      }
     ],
     "prompt_number": 111
    },
    {
     "cell_type": "code",
     "collapsed": false,
     "input": [
      "a = np.empty((10,10))\n",
      "a.dtype"
     ],
     "language": "python",
     "metadata": {},
     "outputs": [
      {
       "metadata": {},
       "output_type": "pyout",
       "prompt_number": 112,
       "text": [
        "dtype('float64')"
       ]
      }
     ],
     "prompt_number": 112
    },
    {
     "cell_type": "markdown",
     "metadata": {},
     "source": [
      "### Arrays can also be indexed with other arrays\n",
      "\n",
      "Arrays can be indexed with other arrays, using either an array of indices, or an array of booleans of the same length. In the former case, numpy returns a view of the data in the specified indices as a new array. In the latter, numpy returns a view of the array with only the elements where the index array is True. (We'll discuss the difference between views and copies in a moment.) This makes normally-tedious operations like clamping extremely simple.\n",
      "\n",
      "Indexing with an array of indices:\n"
     ]
    },
    {
     "cell_type": "code",
     "collapsed": false,
     "input": [
      "A = np.arange(5, 10)\n",
      "print(A)\n",
      "print(A[np.array([0, 2, 3])])\n",
      "A[[0, 2, 3]] = 0\n",
      "print(A)\n"
     ],
     "language": "python",
     "metadata": {},
     "outputs": [
      {
       "output_type": "stream",
       "stream": "stdout",
       "text": [
        "[5 6 7 8 9]\n",
        "[5 7 8]\n",
        "[0 6 0 0 9]\n"
       ]
      }
     ],
     "prompt_number": 117
    },
    {
     "cell_type": "markdown",
     "metadata": {},
     "source": [
      "Indexing with a boolean array:"
     ]
    },
    {
     "cell_type": "code",
     "collapsed": false,
     "input": [
      "A = np.arange(10)\n",
      "A[A>5] = 1\n",
      "A"
     ],
     "language": "python",
     "metadata": {},
     "outputs": [
      {
       "metadata": {},
       "output_type": "pyout",
       "prompt_number": 116,
       "text": [
        "array([0, 1, 2, 3, 4, 5, 1, 1, 1, 1])"
       ]
      }
     ],
     "prompt_number": 116
    },
    {
     "cell_type": "code",
     "collapsed": false,
     "input": [
      "random = np.random\n",
      "A = np.array([random.randint(0, 10) for i in range(10)]) # Check out the list comprehension!\n",
      "print(A)\n",
      "A[A>5] = 5\n",
      "print(A)"
     ],
     "language": "python",
     "metadata": {},
     "outputs": [
      {
       "output_type": "stream",
       "stream": "stdout",
       "text": [
        "[9 6 6 8 9 3 8 4 8 9]\n",
        "[5 5 5 5 5 3 5 4 5 5]\n"
       ]
      }
     ],
     "prompt_number": 17
    },
    {
     "cell_type": "markdown",
     "metadata": {},
     "source": [
      "A few more examples:"
     ]
    },
    {
     "cell_type": "code",
     "collapsed": false,
     "input": [
      "a = np.array([1,2,3])\n",
      "b = np.array([4,5,6])\n",
      "print (a)\n",
      "print (b)\n",
      "print (a > 2)\n",
      "print (a[a > 2])\n",
      "print (b[a > 2])\n",
      "b[a == 3] = 77\n",
      "print(b)"
     ],
     "language": "python",
     "metadata": {},
     "outputs": [
      {
       "output_type": "stream",
       "stream": "stdout",
       "text": [
        "[1 2 3]\n",
        "[4 5 6]\n",
        "[False False  True]\n",
        "[3]\n",
        "[6]\n",
        "[ 4  5 77]\n"
       ]
      }
     ],
     "prompt_number": 119
    },
    {
     "cell_type": "markdown",
     "metadata": {},
     "source": [
      "## Numpy 'gotchas'\n",
      "\n",
      "### Multiplication and Addition\n",
      "\n",
      "As you may have noticed above, since NumPy arrays are modeled more closely after vectors and matrices, multiplying by a scalar will multiply each element of the array, whereas multiplying a list by a scalar will repeat that list N times."
     ]
    },
    {
     "cell_type": "code",
     "collapsed": false,
     "input": [
      "A = np.arange(5)*2\n",
      "print(A) \n",
      "B = list(range(5))*2\n",
      "print(B)"
     ],
     "language": "python",
     "metadata": {},
     "outputs": [
      {
       "output_type": "stream",
       "stream": "stdout",
       "text": [
        "[0 2 4 6 8]\n",
        "[0, 1, 2, 3, 4, 0, 1, 2, 3, 4]\n"
       ]
      }
     ],
     "prompt_number": 19
    },
    {
     "cell_type": "markdown",
     "metadata": {},
     "source": [
      "Similarly, when adding two numpy arrays together, we get the vector sum back, whereas when adding two lists together, we get the concatenation back."
     ]
    },
    {
     "cell_type": "code",
     "collapsed": false,
     "input": [
      "A = np.arange(5) + np.arange(5)\n",
      "print(A)\n",
      "B =list(range(5)) + list(range(5))\n",
      "print(B)"
     ],
     "language": "python",
     "metadata": {},
     "outputs": [
      {
       "output_type": "stream",
       "stream": "stdout",
       "text": [
        "[0 2 4 6 8]\n",
        "[0, 1, 2, 3, 4, 0, 1, 2, 3, 4]\n"
       ]
      }
     ],
     "prompt_number": 20
    },
    {
     "cell_type": "markdown",
     "metadata": {},
     "source": [
      "### Views vs. Copies\n",
      "\n",
      "In order to be as efficient as possible, numpy uses \"views\" instead of copies wherever possible. That is, numpy arrays derived from another base array generally refer to the ''exact same data'' as the base array. The consequence of this is that modification of these derived arrays will also modify the base array. The result of an array indexed by an array of indices is a ''copy'', but an array indexed by an array of booleans is a ''view''. \n",
      "\n",
      "Specifically, slices of arrays are always views, unlike slices of lists or tuples, which are always copies."
     ]
    },
    {
     "cell_type": "code",
     "collapsed": false,
     "input": [
      "A = np.arange(5)\n",
      "B = A[0:1]\n",
      "B[0] = 42\n",
      "print(A)\n",
      "\n",
      "A = list(range(5))\n",
      "B = A[0:1]\n",
      "B[0] = 42\n",
      "print(A)"
     ],
     "language": "python",
     "metadata": {},
     "outputs": [
      {
       "output_type": "stream",
       "stream": "stdout",
       "text": [
        "[42  1  2  3  4]\n",
        "[0, 1, 2, 3, 4]\n"
       ]
      }
     ],
     "prompt_number": 21
    },
    {
     "cell_type": "code",
     "collapsed": false,
     "input": [
      "b = np.zeros((10, 10))\n",
      "for i in range(10):\n",
      "    b = b + np.random.randn(10,10)\n"
     ],
     "language": "python",
     "metadata": {},
     "outputs": []
    },
    {
     "cell_type": "code",
     "collapsed": false,
     "input": [
      "a = [1,2,3,4,5]\n",
      "b = a[:]\n"
     ],
     "language": "python",
     "metadata": {},
     "outputs": [],
     "prompt_number": 121
    },
    {
     "cell_type": "markdown",
     "metadata": {},
     "source": [
      "### Exercise : Copy a numpy array\n",
      "\n",
      "Figure out how to create a copy of a numpy array. Remember: since numpy slices are views, you can't use the trick you'd use for Python lists,\n",
      "i.e. copy = list[:]."
     ]
    },
    {
     "cell_type": "markdown",
     "metadata": {},
     "source": [
      "## Mathematics with numpy\n",
      "\n",
      "Being designed for scientific computing, numpy also contains a host of common mathematical functions, including linear algebra functions, fast\n",
      "Fourier transforms, and probability/statistics functions. While there isn't space to go over ''all'' of these in detail, we will provide an overview of the most common/essential of these."
     ]
    },
    {
     "cell_type": "markdown",
     "metadata": {},
     "source": [
      "For >2-dimensional arrays, there are some other common matrix operations that can be conducted:"
     ]
    },
    {
     "cell_type": "code",
     "collapsed": false,
     "input": [
      "A = np.arange(16).reshape(4, 4)\n",
      "print(A)\n",
      "print(A.T) # transpose\n",
      "print(A.trace())"
     ],
     "language": "python",
     "metadata": {},
     "outputs": [
      {
       "output_type": "stream",
       "stream": "stdout",
       "text": [
        "[[ 0  1  2  3]\n",
        " [ 4  5  6  7]\n",
        " [ 8  9 10 11]\n",
        " [12 13 14 15]]\n",
        "[[ 0  4  8 12]\n",
        " [ 1  5  9 13]\n",
        " [ 2  6 10 14]\n",
        " [ 3  7 11 15]]\n",
        "30\n"
       ]
      }
     ],
     "prompt_number": 22
    },
    {
     "cell_type": "markdown",
     "metadata": {},
     "source": [
      "There are many more methods like these available with NumPy arrays. Be sure to consult the numpy documentation before writing your own versions!"
     ]
    },
    {
     "cell_type": "markdown",
     "metadata": {},
     "source": [
      "### The  `matrix`  class \n",
      "\n",
      "So far, we've used two-dimensional arrays to represent matrix-like objects. However, numpy provides a specialized class for this. The `matrix` class is almost identical to a two-dimensional numpy array, but has a few changes to the interface to simplify common linear algebraic tasks. These are: \\* The `*` operator is performs matrix multiplication \\* The `**` operator performs matrix exponentiation \\* The property `.I` (or the method `.getI()`) returns the matrix inverse \\* The property `.H` (or the method `.getH()`) returns the conjugate transpose\n",
      "\n",
      "### Example: Solving a System of Linear Equations"
     ]
    },
    {
     "cell_type": "code",
     "collapsed": false,
     "input": [
      "la = np.linalg\n",
      "A = np.matrix([[3, 2, -1], [2, -2, 4], [-1, .5, -1]])\n",
      "B = np.array([1, -2, 0])\n",
      "print(la.solve(A, B))"
     ],
     "language": "python",
     "metadata": {},
     "outputs": [
      {
       "output_type": "stream",
       "stream": "stdout",
       "text": [
        "[ 1. -2. -2.]\n"
       ]
      }
     ],
     "prompt_number": 23
    },
    {
     "cell_type": "markdown",
     "metadata": {},
     "source": [
      "### Universal functions \n",
      "\n",
      "Universal functions (also called ufuncs) are high-speed, element-wise operations on NumPy arrays. They are, in essence, what allows you to operate on NumPy arrays efficiently. There are a large number of universal functions available covering most of the basic operations that get performed on data, like addition, subtraction, logarithms, and so on. Calling a ufunc is a simple matter:\n",
      "\n",
      "    "
     ]
    },
    {
     "cell_type": "code",
     "collapsed": false,
     "input": [
      "A = np.arange(1,10)\n",
      "print(np.log10(A))"
     ],
     "language": "python",
     "metadata": {},
     "outputs": [
      {
       "output_type": "stream",
       "stream": "stdout",
       "text": [
        "[ 0.          0.30103     0.47712125  0.60205999  0.69897     0.77815125\n",
        "  0.84509804  0.90308999  0.95424251]\n"
       ]
      }
     ],
     "prompt_number": 24
    },
    {
     "cell_type": "markdown",
     "metadata": {},
     "source": [
      "### Exercise : Elementwise Operations\n",
      "\n",
      "Using ufuncs, calculate the reciprocals of each element in the following array:\n",
      "  \n",
      "  [8.1, 1.6, 0.9, 4.3, 7.0, 7.3, 4.7, 8.2, 7.2, 3.0,\n",
      "  1.4, 9.8, 5.7, 0.7, 8.7, 4.6, 8.8, 0.9, 4.4, 4.4]\n"
     ]
    },
    {
     "cell_type": "markdown",
     "metadata": {},
     "source": [
      "# Scipy\n",
      "\n",
      "Scipy is a huge library of scientific software. It includes many useful things, such as functions for statistics, for signal processing, image processing, etc. \n",
      "\n",
      "Because it's very large, importing it doesn't actually bring in all of its modules and those need to be imported individually. "
     ]
    },
    {
     "cell_type": "code",
     "collapsed": false,
     "input": [
      "import numpy as np\n",
      "import scipy.fft as fft\n",
      "\n",
      "scipy.array([1,2,3])"
     ],
     "language": "python",
     "metadata": {},
     "outputs": [
      {
       "metadata": {},
       "output_type": "pyout",
       "prompt_number": 124,
       "text": [
        "<function numpy.core.multiarray.array>"
       ]
      }
     ],
     "prompt_number": 124
    },
    {
     "cell_type": "markdown",
     "metadata": {},
     "source": [
      "For example, if you want to look at physical constants, you need to specifically import the `constants` module."
     ]
    },
    {
     "cell_type": "code",
     "collapsed": false,
     "input": [
      "import scipy.constants as const"
     ],
     "language": "python",
     "metadata": {},
     "outputs": [],
     "prompt_number": 125
    },
    {
     "cell_type": "code",
     "collapsed": false,
     "input": [
      "print(const.c)"
     ],
     "language": "python",
     "metadata": {},
     "outputs": [
      {
       "output_type": "stream",
       "stream": "stdout",
       "text": [
        "299792458.0\n"
       ]
      }
     ],
     "prompt_number": 126
    },
    {
     "cell_type": "code",
     "collapsed": false,
     "input": [
      "print(const.find(\"alpha\"))"
     ],
     "language": "python",
     "metadata": {},
     "outputs": [
      {
       "output_type": "stream",
       "stream": "stdout",
       "text": [
        "['alpha particle mass', 'alpha particle mass energy equivalent', 'alpha particle mass energy equivalent in MeV', 'alpha particle mass in u', 'alpha particle molar mass', 'alpha particle-electron mass ratio', 'alpha particle-proton mass ratio', 'electron to alpha particle mass ratio']\n"
       ]
      }
     ],
     "prompt_number": 28
    },
    {
     "cell_type": "code",
     "collapsed": false,
     "input": [
      "print(const.physical_constants['alpha particle mass'])"
     ],
     "language": "python",
     "metadata": {},
     "outputs": [
      {
       "output_type": "stream",
       "stream": "stdout",
       "text": [
        "(6.64465675e-27, 'kg', 2.9e-34)\n"
       ]
      }
     ],
     "prompt_number": 29
    },
    {
     "cell_type": "markdown",
     "metadata": {},
     "source": [
      "There are a lot of gems hidden in the `special` and `misc` modules"
     ]
    },
    {
     "cell_type": "code",
     "collapsed": false,
     "input": [
      "import scipy.special as sps\n",
      "\n",
      "# We'll talk about matplotlib later today:\n",
      "import matplotlib.pylab as pylab\n",
      "%matplotlib inline"
     ],
     "language": "python",
     "metadata": {},
     "outputs": [],
     "prompt_number": 30
    },
    {
     "cell_type": "code",
     "collapsed": false,
     "input": [
      "x = np.arange(0.0, 10.1, 0.1)\n",
      "\n",
      "for n in range(4): \n",
      "    j = sps.jn(n, x) \n",
      "    pylab.plot(x, j, label='Bessel order=%s'%n)\n",
      "\n",
      "pylab.legend()\n",
      "pylab.show()"
     ],
     "language": "python",
     "metadata": {},
     "outputs": [
      {
       "metadata": {},
       "output_type": "display_data",
       "png": "[encoded data removed]",
       "text": [
        "<matplotlib.figure.Figure at 0x106859828>"
       ]
      }
     ],
     "prompt_number": 31
    },
    {
     "cell_type": "markdown",
     "metadata": {},
     "source": [
      "## Image processing tools in scipy:"
     ]
    },
    {
     "cell_type": "code",
     "collapsed": false,
     "input": [
      "import scipy.misc as misc"
     ],
     "language": "python",
     "metadata": {},
     "outputs": [],
     "prompt_number": 142
    },
    {
     "cell_type": "code",
     "collapsed": false,
     "input": [
      "import scipy.ndimage as ndi"
     ],
     "language": "python",
     "metadata": {},
     "outputs": [],
     "prompt_number": 136
    },
    {
     "cell_type": "code",
     "collapsed": false,
     "input": [
      "import matplotlib\n",
      "import matplotlib.pylab as pylab"
     ],
     "language": "python",
     "metadata": {},
     "outputs": [],
     "prompt_number": 137
    },
    {
     "cell_type": "code",
     "collapsed": false,
     "input": [
      "#First let's read in an image file.  For now, make it a JPEG.\n",
      "img = ndi.imread(\"image.jpg\")"
     ],
     "language": "python",
     "metadata": {},
     "outputs": [],
     "prompt_number": 138
    },
    {
     "cell_type": "code",
     "collapsed": false,
     "input": [
      "#Note that this really is an array!\n",
      "print(img.shape)"
     ],
     "language": "python",
     "metadata": {},
     "outputs": [
      {
       "output_type": "stream",
       "stream": "stdout",
       "text": [
        "(767, 621, 3)\n"
       ]
      }
     ],
     "prompt_number": 139
    },
    {
     "cell_type": "code",
     "collapsed": false,
     "input": [
      "#We can now apply some basic filters...\n",
      "img = ndi.imfilter(img, 'blur')"
     ],
     "language": "python",
     "metadata": {},
     "outputs": [
      {
       "ename": "AttributeError",
       "evalue": "'module' object has no attribute 'imfilter'",
       "output_type": "pyerr",
       "traceback": [
        "\u001b[0;31m---------------------------------------------------------------------------\u001b[0m\n\u001b[0;31mAttributeError\u001b[0m                            Traceback (most recent call last)",
        "\u001b[0;32m<ipython-input-140-403b3700cce2>\u001b[0m in \u001b[0;36m<module>\u001b[0;34m()\u001b[0m\n\u001b[1;32m      1\u001b[0m \u001b[0;31m#We can now apply some basic filters...\u001b[0m\u001b[0;34m\u001b[0m\u001b[0;34m\u001b[0m\u001b[0m\n\u001b[0;32m----> 2\u001b[0;31m \u001b[0mimg\u001b[0m \u001b[0;34m=\u001b[0m \u001b[0mndi\u001b[0m\u001b[0;34m.\u001b[0m\u001b[0mimfilter\u001b[0m\u001b[0;34m(\u001b[0m\u001b[0mimg\u001b[0m\u001b[0;34m,\u001b[0m \u001b[0;34m'blur'\u001b[0m\u001b[0;34m)\u001b[0m\u001b[0;34m\u001b[0m\u001b[0m\n\u001b[0m",
        "\u001b[0;31mAttributeError\u001b[0m: 'module' object has no attribute 'imfilter'"
       ]
      }
     ],
     "prompt_number": 140
    },
    {
     "cell_type": "code",
     "collapsed": false,
     "input": [
      "#We can even rotate the image, counter-clockwise by degrees.\n",
      "img = ndi.imrotate(img, 45)"
     ],
     "language": "python",
     "metadata": {},
     "outputs": [
      {
       "ename": "AttributeError",
       "evalue": "'module' object has no attribute 'imrotate'",
       "output_type": "pyerr",
       "traceback": [
        "\u001b[0;31m---------------------------------------------------------------------------\u001b[0m\n\u001b[0;31mAttributeError\u001b[0m                            Traceback (most recent call last)",
        "\u001b[0;32m<ipython-input-141-fbb0af1c03fb>\u001b[0m in \u001b[0;36m<module>\u001b[0;34m()\u001b[0m\n\u001b[1;32m      1\u001b[0m \u001b[0;31m#We can even rotate the image, counter-clockwise by degrees.\u001b[0m\u001b[0;34m\u001b[0m\u001b[0;34m\u001b[0m\u001b[0m\n\u001b[0;32m----> 2\u001b[0;31m \u001b[0mimg\u001b[0m \u001b[0;34m=\u001b[0m \u001b[0mndi\u001b[0m\u001b[0;34m.\u001b[0m\u001b[0mimrotate\u001b[0m\u001b[0;34m(\u001b[0m\u001b[0mimg\u001b[0m\u001b[0;34m,\u001b[0m \u001b[0;36m45\u001b[0m\u001b[0;34m)\u001b[0m\u001b[0;34m\u001b[0m\u001b[0m\n\u001b[0m",
        "\u001b[0;31mAttributeError\u001b[0m: 'module' object has no attribute 'imrotate'"
       ]
      }
     ],
     "prompt_number": 141
    },
    {
     "cell_type": "code",
     "collapsed": false,
     "input": [
      "#And then, we can rewrite the array to an image file.\n",
      "pu.imsave(\"image1.jpg\", img)"
     ],
     "language": "python",
     "metadata": {},
     "outputs": [],
     "prompt_number": 69
    },
    {
     "cell_type": "code",
     "collapsed": false,
     "input": [
      "#Because the array takes integer values from 0 - 255, we can easily define our own filters as well!\n",
      "def InverseImage(imgarr):\n",
      "    return 255 - imgarr"
     ],
     "language": "python",
     "metadata": {},
     "outputs": [],
     "prompt_number": 70
    },
    {
     "cell_type": "code",
     "collapsed": false,
     "input": [
      "#Starting fresh we get... \n",
      "img = ndi.imread(\"image.jpg\")\n",
      "img = ndi.imrotate(img, 330)\n",
      "img = InverseImage(img)\n",
      "ndi.imsave(\"image2.jpg\", img)"
     ],
     "language": "python",
     "metadata": {},
     "outputs": [],
     "prompt_number": 71
    },
    {
     "cell_type": "markdown",
     "metadata": {},
     "source": [
      "## Exercise:\n",
      "\n",
      "1. Examine the provided image moonlanding.png, which is heavily contaminated with periodic noise. In this exercise, we aim to clean up the noise using the Fast Fourier Transform.\n",
      "1. Load the image using pu.imread() .\n",
      "1. Find and use the 2-D FFT function in scipy.fftpack, and plot the spectrum (Fourier transform of) the image. Do you have any trouble visualising the spectrum? If so, why?\n",
      "1. The spectrum consists of high and low frequency components. The noise is contained in the high-frequency part of the spectrum, so set some of those components to zero (use array slicing).\n",
      "1. Apply the inverse Fourier transform to see the resulting image.\n"
     ]
    }
   ],
   "metadata": {}
  }
 ]
}